{
 "cells": [
  {
   "cell_type": "code",
   "execution_count": 1,
   "metadata": {
    "_cell_guid": "b1076dfc-b9ad-4769-8c92-a6c4dae69d19",
    "_uuid": "8f2839f25d086af736a60e9eeb907d3b93b6e0e5",
    "execution": {
     "iopub.execute_input": "2020-08-22T08:56:14.988759Z",
     "iopub.status.busy": "2020-08-22T08:56:14.987878Z",
     "iopub.status.idle": "2020-08-22T08:56:16.394384Z",
     "shell.execute_reply": "2020-08-22T08:56:16.392942Z"
    },
    "papermill": {
     "duration": 1.425313,
     "end_time": "2020-08-22T08:56:16.394587",
     "exception": false,
     "start_time": "2020-08-22T08:56:14.969274",
     "status": "completed"
    },
    "tags": []
   },
   "outputs": [
    {
     "name": "stdout",
     "output_type": "stream",
     "text": [
      "/kaggle/input/iris/Iris.csv\n",
      "/kaggle/input/iris/database.sqlite\n"
     ]
    }
   ],
   "source": [
    "# This Python 3 environment comes with many helpful analytics libraries installed\n",
    "# It is defined by the kaggle/python Docker image: https://github.com/kaggle/docker-python\n",
    "# For example, here's several helpful packages to load\n",
    "\n",
    "import numpy as np # linear algebra\n",
    "import pandas as pd # data processing, CSV file I/O (e.g. pd.read_csv)\n",
    "import seaborn as sns\n",
    "sns.set()\n",
    "import matplotlib.pyplot as plt\n",
    "\n",
    "# Input data files are available in the read-only \"../input/\" directory\n",
    "# For example, running this (by clicking run or pressing Shift+Enter) will list all files under the input directory\n",
    "\n",
    "import os\n",
    "for dirname, _, filenames in os.walk('/kaggle/input'):\n",
    "    for filename in filenames:\n",
    "        print(os.path.join(dirname, filename))\n",
    "\n",
    "# You can write up to 5GB to the current directory (/kaggle/working/) that gets preserved as output when you create a version using \"Save & Run All\" \n",
    "# You can also write temporary files to /kaggle/temp/, but they won't be saved outside of the current session"
   ]
  },
  {
   "cell_type": "markdown",
   "execution_count": null,
   "metadata": {
    "papermill": {
     "duration": 0.008953,
     "end_time": "2020-08-22T08:56:16.416791",
     "exception": false,
     "start_time": "2020-08-22T08:56:16.407838",
     "status": "completed"
    },
    "tags": []
   },
   "source": [
    "a. Import the data set"
   ]
  },
  {
   "cell_type": "code",
   "execution_count": 2,
   "metadata": {
    "execution": {
     "iopub.execute_input": "2020-08-22T08:56:16.442926Z",
     "iopub.status.busy": "2020-08-22T08:56:16.441980Z",
     "iopub.status.idle": "2020-08-22T08:56:16.455873Z",
     "shell.execute_reply": "2020-08-22T08:56:16.454877Z"
    },
    "papermill": {
     "duration": 0.030888,
     "end_time": "2020-08-22T08:56:16.456060",
     "exception": false,
     "start_time": "2020-08-22T08:56:16.425172",
     "status": "completed"
    },
    "tags": []
   },
   "outputs": [],
   "source": [
    "train = pd.read_csv('/kaggle/input/iris/Iris.csv')"
   ]
  },
  {
   "cell_type": "code",
   "execution_count": 3,
   "metadata": {
    "execution": {
     "iopub.execute_input": "2020-08-22T08:56:16.496317Z",
     "iopub.status.busy": "2020-08-22T08:56:16.488935Z",
     "iopub.status.idle": "2020-08-22T08:56:16.514336Z",
     "shell.execute_reply": "2020-08-22T08:56:16.515247Z"
    },
    "papermill": {
     "duration": 0.047341,
     "end_time": "2020-08-22T08:56:16.515478",
     "exception": false,
     "start_time": "2020-08-22T08:56:16.468137",
     "status": "completed"
    },
    "tags": []
   },
   "outputs": [
    {
     "data": {
      "text/html": [
       "<div>\n",
       "<style scoped>\n",
       "    .dataframe tbody tr th:only-of-type {\n",
       "        vertical-align: middle;\n",
       "    }\n",
       "\n",
       "    .dataframe tbody tr th {\n",
       "        vertical-align: top;\n",
       "    }\n",
       "\n",
       "    .dataframe thead th {\n",
       "        text-align: right;\n",
       "    }\n",
       "</style>\n",
       "<table border=\"1\" class=\"dataframe\">\n",
       "  <thead>\n",
       "    <tr style=\"text-align: right;\">\n",
       "      <th></th>\n",
       "      <th>Id</th>\n",
       "      <th>SepalLengthCm</th>\n",
       "      <th>SepalWidthCm</th>\n",
       "      <th>PetalLengthCm</th>\n",
       "      <th>PetalWidthCm</th>\n",
       "      <th>Species</th>\n",
       "    </tr>\n",
       "  </thead>\n",
       "  <tbody>\n",
       "    <tr>\n",
       "      <th>0</th>\n",
       "      <td>1</td>\n",
       "      <td>5.1</td>\n",
       "      <td>3.5</td>\n",
       "      <td>1.4</td>\n",
       "      <td>0.2</td>\n",
       "      <td>Iris-setosa</td>\n",
       "    </tr>\n",
       "    <tr>\n",
       "      <th>1</th>\n",
       "      <td>2</td>\n",
       "      <td>4.9</td>\n",
       "      <td>3.0</td>\n",
       "      <td>1.4</td>\n",
       "      <td>0.2</td>\n",
       "      <td>Iris-setosa</td>\n",
       "    </tr>\n",
       "    <tr>\n",
       "      <th>2</th>\n",
       "      <td>3</td>\n",
       "      <td>4.7</td>\n",
       "      <td>3.2</td>\n",
       "      <td>1.3</td>\n",
       "      <td>0.2</td>\n",
       "      <td>Iris-setosa</td>\n",
       "    </tr>\n",
       "    <tr>\n",
       "      <th>3</th>\n",
       "      <td>4</td>\n",
       "      <td>4.6</td>\n",
       "      <td>3.1</td>\n",
       "      <td>1.5</td>\n",
       "      <td>0.2</td>\n",
       "      <td>Iris-setosa</td>\n",
       "    </tr>\n",
       "    <tr>\n",
       "      <th>4</th>\n",
       "      <td>5</td>\n",
       "      <td>5.0</td>\n",
       "      <td>3.6</td>\n",
       "      <td>1.4</td>\n",
       "      <td>0.2</td>\n",
       "      <td>Iris-setosa</td>\n",
       "    </tr>\n",
       "  </tbody>\n",
       "</table>\n",
       "</div>"
      ],
      "text/plain": [
       "   Id  SepalLengthCm  SepalWidthCm  PetalLengthCm  PetalWidthCm      Species\n",
       "0   1            5.1           3.5            1.4           0.2  Iris-setosa\n",
       "1   2            4.9           3.0            1.4           0.2  Iris-setosa\n",
       "2   3            4.7           3.2            1.3           0.2  Iris-setosa\n",
       "3   4            4.6           3.1            1.5           0.2  Iris-setosa\n",
       "4   5            5.0           3.6            1.4           0.2  Iris-setosa"
      ]
     },
     "execution_count": 3,
     "metadata": {},
     "output_type": "execute_result"
    }
   ],
   "source": [
    "train.head()"
   ]
  },
  {
   "cell_type": "code",
   "execution_count": 4,
   "metadata": {
    "execution": {
     "iopub.execute_input": "2020-08-22T08:56:16.560677Z",
     "iopub.status.busy": "2020-08-22T08:56:16.559490Z",
     "iopub.status.idle": "2020-08-22T08:56:16.563557Z",
     "shell.execute_reply": "2020-08-22T08:56:16.564454Z"
    },
    "papermill": {
     "duration": 0.036642,
     "end_time": "2020-08-22T08:56:16.564690",
     "exception": false,
     "start_time": "2020-08-22T08:56:16.528048",
     "status": "completed"
    },
    "tags": []
   },
   "outputs": [
    {
     "name": "stdout",
     "output_type": "stream",
     "text": [
      "<class 'pandas.core.frame.DataFrame'>\n",
      "RangeIndex: 150 entries, 0 to 149\n",
      "Data columns (total 6 columns):\n",
      " #   Column         Non-Null Count  Dtype  \n",
      "---  ------         --------------  -----  \n",
      " 0   Id             150 non-null    int64  \n",
      " 1   SepalLengthCm  150 non-null    float64\n",
      " 2   SepalWidthCm   150 non-null    float64\n",
      " 3   PetalLengthCm  150 non-null    float64\n",
      " 4   PetalWidthCm   150 non-null    float64\n",
      " 5   Species        150 non-null    object \n",
      "dtypes: float64(4), int64(1), object(1)\n",
      "memory usage: 7.2+ KB\n"
     ]
    }
   ],
   "source": [
    "train.info()"
   ]
  },
  {
   "cell_type": "markdown",
   "execution_count": null,
   "metadata": {
    "papermill": {
     "duration": 0.012143,
     "end_time": "2020-08-22T08:56:16.589606",
     "exception": false,
     "start_time": "2020-08-22T08:56:16.577463",
     "status": "completed"
    },
    "tags": []
   },
   "source": [
    "b. Store the split data into separate variables."
   ]
  },
  {
   "cell_type": "code",
   "execution_count": 5,
   "metadata": {
    "execution": {
     "iopub.execute_input": "2020-08-22T08:56:16.621011Z",
     "iopub.status.busy": "2020-08-22T08:56:16.619837Z",
     "iopub.status.idle": "2020-08-22T08:56:16.623816Z",
     "shell.execute_reply": "2020-08-22T08:56:16.622865Z"
    },
    "papermill": {
     "duration": 0.022459,
     "end_time": "2020-08-22T08:56:16.624001",
     "exception": false,
     "start_time": "2020-08-22T08:56:16.601542",
     "status": "completed"
    },
    "tags": []
   },
   "outputs": [],
   "source": [
    "X = train.iloc[:, :-1]\n",
    "y = train.iloc[:, -1]"
   ]
  },
  {
   "cell_type": "code",
   "execution_count": 6,
   "metadata": {
    "execution": {
     "iopub.execute_input": "2020-08-22T08:56:16.663094Z",
     "iopub.status.busy": "2020-08-22T08:56:16.661913Z",
     "iopub.status.idle": "2020-08-22T08:56:17.127535Z",
     "shell.execute_reply": "2020-08-22T08:56:17.126811Z"
    },
    "papermill": {
     "duration": 0.490603,
     "end_time": "2020-08-22T08:56:17.127670",
     "exception": false,
     "start_time": "2020-08-22T08:56:16.637067",
     "status": "completed"
    },
    "tags": []
   },
   "outputs": [
    {
     "data": {
      "image/png": "[encoded data removed]",
      "text/plain": [
       "<Figure size 432x288 with 1 Axes>"
      ]
     },
     "metadata": {},
     "output_type": "display_data"
    }
   ],
   "source": [
    "plt.xlabel('Features')\n",
    "plt.ylabel('Species')\n",
    "\n",
    "pltX = train.loc[:, 'SepalLengthCm']\n",
    "pltY = train.loc[:, 'Species']\n",
    "plt.scatter(pltX,pltY, color='blue', label = 'SepalLengthCm')\n",
    "\n",
    "pltX = train.loc[:, 'SepalWidthCm']\n",
    "pltY = train.loc[:, 'Species']\n",
    "plt.scatter(pltX,pltY, color='red', label = 'SepalWidthCm')\n",
    "\n",
    "pltX = train.loc[:, 'PetalLengthCm']\n",
    "pltY = train.loc[:, 'Species']\n",
    "plt.scatter(pltX,pltY, color='green', label = 'PetalLengthCm')\n",
    "\n",
    "pltX = train.loc[:, 'PetalWidthCm']\n",
    "pltY = train.loc[:, 'Species']\n",
    "plt.scatter(pltX,pltY, color='black', label = 'PetalWidthCm')\n",
    "\n",
    "plt.legend(loc=4, prop={'size':7})\n",
    "plt.show()"
   ]
  },
  {
   "cell_type": "code",
   "execution_count": 7,
   "metadata": {
    "execution": {
     "iopub.execute_input": "2020-08-22T08:56:17.152204Z",
     "iopub.status.busy": "2020-08-22T08:56:17.151402Z",
     "iopub.status.idle": "2020-08-22T08:56:17.422614Z",
     "shell.execute_reply": "2020-08-22T08:56:17.421715Z"
    },
    "papermill": {
     "duration": 0.285886,
     "end_time": "2020-08-22T08:56:17.422784",
     "exception": false,
     "start_time": "2020-08-22T08:56:17.136898",
     "status": "completed"
    },
    "tags": []
   },
   "outputs": [],
   "source": [
    "from sklearn.linear_model import LogisticRegression\n",
    "from sklearn.metrics import classification_report\n",
    "from sklearn.metrics import accuracy_score\n",
    "from sklearn.model_selection import train_test_split"
   ]
  },
  {
   "cell_type": "code",
   "execution_count": 8,
   "metadata": {
    "execution": {
     "iopub.execute_input": "2020-08-22T08:56:17.450541Z",
     "iopub.status.busy": "2020-08-22T08:56:17.449515Z",
     "iopub.status.idle": "2020-08-22T08:56:17.452849Z",
     "shell.execute_reply": "2020-08-22T08:56:17.452070Z"
    },
    "papermill": {
     "duration": 0.020628,
     "end_time": "2020-08-22T08:56:17.452976",
     "exception": false,
     "start_time": "2020-08-22T08:56:17.432348",
     "status": "completed"
    },
    "tags": []
   },
   "outputs": [],
   "source": [
    "x_train, x_test, y_train, y_test = train_test_split(X,y, test_size=0.2, random_state=42)"
   ]
  },
  {
   "cell_type": "markdown",
   "execution_count": null,
   "metadata": {
    "papermill": {
     "duration": 0.009051,
     "end_time": "2020-08-22T08:56:17.471933",
     "exception": false,
     "start_time": "2020-08-22T08:56:17.462882",
     "status": "completed"
    },
    "tags": []
   },
   "source": [
    "c. Create a naive Bayes model on the training dataset"
   ]
  },
  {
   "cell_type": "code",
   "execution_count": 9,
   "metadata": {
    "execution": {
     "iopub.execute_input": "2020-08-22T08:56:17.495691Z",
     "iopub.status.busy": "2020-08-22T08:56:17.494915Z",
     "iopub.status.idle": "2020-08-22T08:56:17.502242Z",
     "shell.execute_reply": "2020-08-22T08:56:17.501463Z"
    },
    "papermill": {
     "duration": 0.02136,
     "end_time": "2020-08-22T08:56:17.502370",
     "exception": false,
     "start_time": "2020-08-22T08:56:17.481010",
     "status": "completed"
    },
    "tags": []
   },
   "outputs": [],
   "source": [
    "from sklearn.naive_bayes import GaussianNB"
   ]
  },
  {
   "cell_type": "code",
   "execution_count": 10,
   "metadata": {
    "execution": {
     "iopub.execute_input": "2020-08-22T08:56:17.526981Z",
     "iopub.status.busy": "2020-08-22T08:56:17.526028Z",
     "iopub.status.idle": "2020-08-22T08:56:17.529299Z",
     "shell.execute_reply": "2020-08-22T08:56:17.528647Z"
    },
    "papermill": {
     "duration": 0.017609,
     "end_time": "2020-08-22T08:56:17.529428",
     "exception": false,
     "start_time": "2020-08-22T08:56:17.511819",
     "status": "completed"
    },
    "tags": []
   },
   "outputs": [],
   "source": [
    "gnb = GaussianNB()"
   ]
  },
  {
   "cell_type": "markdown",
   "execution_count": null,
   "metadata": {
    "papermill": {
     "duration": 0.008942,
     "end_time": "2020-08-22T08:56:17.547763",
     "exception": false,
     "start_time": "2020-08-22T08:56:17.538821",
     "status": "completed"
    },
    "tags": []
   },
   "source": [
    "#Fitting the model"
   ]
  },
  {
   "cell_type": "code",
   "execution_count": 11,
   "metadata": {
    "execution": {
     "iopub.execute_input": "2020-08-22T08:56:17.576092Z",
     "iopub.status.busy": "2020-08-22T08:56:17.573672Z",
     "iopub.status.idle": "2020-08-22T08:56:17.600391Z",
     "shell.execute_reply": "2020-08-22T08:56:17.601279Z"
    },
    "papermill": {
     "duration": 0.044319,
     "end_time": "2020-08-22T08:56:17.601532",
     "exception": false,
     "start_time": "2020-08-22T08:56:17.557213",
     "status": "completed"
    },
    "tags": []
   },
   "outputs": [
    {
     "data": {
      "text/plain": [
       "GaussianNB()"
      ]
     },
     "execution_count": 11,
     "metadata": {},
     "output_type": "execute_result"
    }
   ],
   "source": [
    "gnb.fit(x_train, y_train)"
   ]
  },
  {
   "cell_type": "markdown",
   "execution_count": null,
   "metadata": {
    "papermill": {
     "duration": 0.012403,
     "end_time": "2020-08-22T08:56:17.627386",
     "exception": false,
     "start_time": "2020-08-22T08:56:17.614983",
     "status": "completed"
    },
    "tags": []
   },
   "source": [
    "d. Now predict the data model for a testing dataset that you have separated in bit b."
   ]
  },
  {
   "cell_type": "code",
   "execution_count": 12,
   "metadata": {
    "execution": {
     "iopub.execute_input": "2020-08-22T08:56:17.662632Z",
     "iopub.status.busy": "2020-08-22T08:56:17.661717Z",
     "iopub.status.idle": "2020-08-22T08:56:17.665435Z",
     "shell.execute_reply": "2020-08-22T08:56:17.664627Z"
    },
    "papermill": {
     "duration": 0.025552,
     "end_time": "2020-08-22T08:56:17.665568",
     "exception": false,
     "start_time": "2020-08-22T08:56:17.640016",
     "status": "completed"
    },
    "tags": []
   },
   "outputs": [],
   "source": [
    "y_pred = gnb.predict(x_test)"
   ]
  },
  {
   "cell_type": "code",
   "execution_count": 13,
   "metadata": {
    "execution": {
     "iopub.execute_input": "2020-08-22T08:56:17.692656Z",
     "iopub.status.busy": "2020-08-22T08:56:17.691774Z",
     "iopub.status.idle": "2020-08-22T08:56:17.695612Z",
     "shell.execute_reply": "2020-08-22T08:56:17.696336Z"
    },
    "papermill": {
     "duration": 0.020623,
     "end_time": "2020-08-22T08:56:17.696499",
     "exception": false,
     "start_time": "2020-08-22T08:56:17.675876",
     "status": "completed"
    },
    "tags": []
   },
   "outputs": [
    {
     "name": "stdout",
     "output_type": "stream",
     "text": [
      "['Iris-versicolor' 'Iris-setosa' 'Iris-virginica' 'Iris-versicolor'\n",
      " 'Iris-versicolor' 'Iris-setosa' 'Iris-versicolor' 'Iris-virginica'\n",
      " 'Iris-versicolor' 'Iris-versicolor' 'Iris-virginica' 'Iris-setosa'\n",
      " 'Iris-setosa' 'Iris-setosa' 'Iris-setosa' 'Iris-versicolor'\n",
      " 'Iris-virginica' 'Iris-versicolor' 'Iris-versicolor' 'Iris-virginica'\n",
      " 'Iris-setosa' 'Iris-virginica' 'Iris-setosa' 'Iris-virginica'\n",
      " 'Iris-virginica' 'Iris-virginica' 'Iris-virginica' 'Iris-virginica'\n",
      " 'Iris-setosa' 'Iris-setosa']\n"
     ]
    }
   ],
   "source": [
    "print(y_pred)"
   ]
  },
  {
   "cell_type": "code",
   "execution_count": 14,
   "metadata": {
    "execution": {
     "iopub.execute_input": "2020-08-22T08:56:17.730025Z",
     "iopub.status.busy": "2020-08-22T08:56:17.728921Z",
     "iopub.status.idle": "2020-08-22T08:56:17.733949Z",
     "shell.execute_reply": "2020-08-22T08:56:17.733304Z"
    },
    "papermill": {
     "duration": 0.024117,
     "end_time": "2020-08-22T08:56:17.734081",
     "exception": false,
     "start_time": "2020-08-22T08:56:17.709964",
     "status": "completed"
    },
    "tags": []
   },
   "outputs": [
    {
     "data": {
      "text/plain": [
       "73     Iris-versicolor\n",
       "18         Iris-setosa\n",
       "118     Iris-virginica\n",
       "78     Iris-versicolor\n",
       "76     Iris-versicolor\n",
       "31         Iris-setosa\n",
       "64     Iris-versicolor\n",
       "141     Iris-virginica\n",
       "68     Iris-versicolor\n",
       "82     Iris-versicolor\n",
       "110     Iris-virginica\n",
       "12         Iris-setosa\n",
       "36         Iris-setosa\n",
       "9          Iris-setosa\n",
       "19         Iris-setosa\n",
       "56     Iris-versicolor\n",
       "104     Iris-virginica\n",
       "69     Iris-versicolor\n",
       "55     Iris-versicolor\n",
       "132     Iris-virginica\n",
       "29         Iris-setosa\n",
       "127     Iris-virginica\n",
       "26         Iris-setosa\n",
       "128     Iris-virginica\n",
       "131     Iris-virginica\n",
       "145     Iris-virginica\n",
       "108     Iris-virginica\n",
       "143     Iris-virginica\n",
       "45         Iris-setosa\n",
       "30         Iris-setosa\n",
       "Name: Species, dtype: object"
      ]
     },
     "execution_count": 14,
     "metadata": {},
     "output_type": "execute_result"
    }
   ],
   "source": [
    "y_test"
   ]
  },
  {
   "cell_type": "code",
   "execution_count": 15,
   "metadata": {
    "execution": {
     "iopub.execute_input": "2020-08-22T08:56:17.767507Z",
     "iopub.status.busy": "2020-08-22T08:56:17.766371Z",
     "iopub.status.idle": "2020-08-22T08:56:17.770501Z",
     "shell.execute_reply": "2020-08-22T08:56:17.769715Z"
    },
    "papermill": {
     "duration": 0.022902,
     "end_time": "2020-08-22T08:56:17.770661",
     "exception": false,
     "start_time": "2020-08-22T08:56:17.747759",
     "status": "completed"
    },
    "tags": []
   },
   "outputs": [],
   "source": [
    "from sklearn import metrics"
   ]
  },
  {
   "cell_type": "code",
   "execution_count": 16,
   "metadata": {
    "execution": {
     "iopub.execute_input": "2020-08-22T08:56:17.800509Z",
     "iopub.status.busy": "2020-08-22T08:56:17.799634Z",
     "iopub.status.idle": "2020-08-22T08:56:17.803930Z",
     "shell.execute_reply": "2020-08-22T08:56:17.803292Z"
    },
    "papermill": {
     "duration": 0.023256,
     "end_time": "2020-08-22T08:56:17.804058",
     "exception": false,
     "start_time": "2020-08-22T08:56:17.780802",
     "status": "completed"
    },
    "tags": []
   },
   "outputs": [
    {
     "name": "stdout",
     "output_type": "stream",
     "text": [
      "Accuracy: 1.0\n"
     ]
    }
   ],
   "source": [
    "print(\"Accuracy:\",metrics.accuracy_score(y_test, y_pred))"
   ]
  },
  {
   "cell_type": "code",
   "execution_count": null,
   "metadata": {
    "papermill": {
     "duration": 0.009823,
     "end_time": "2020-08-22T08:56:17.823944",
     "exception": false,
     "start_time": "2020-08-22T08:56:17.814121",
     "status": "completed"
    },
    "tags": []
   },
   "outputs": [],
   "source": []
  },
  {
   "cell_type": "code",
   "execution_count": null,
   "metadata": {
    "papermill": {
     "duration": 0.009478,
     "end_time": "2020-08-22T08:56:17.843318",
     "exception": false,
     "start_time": "2020-08-22T08:56:17.833840",
     "status": "completed"
    },
    "tags": []
   },
   "outputs": [],
   "source": []
  }
 ],
 "metadata": {
  "kernelspec": {
   "display_name": "Python 3",
   "language": "python",
   "name": "python3"
  },
  "language_info": {
   "codemirror_mode": {
    "name": "ipython",
    "version": 3
   },
   "file_extension": ".py",
   "mimetype": "text/x-python",
   "name": "python",
   "nbconvert_exporter": "python",
   "pygments_lexer": "ipython3",
   "version": "3.7.6"
  },
  "papermill": {
   "duration": 8.552149,
   "end_time": "2020-08-22T08:56:17.960685",
   "environment_variables": {},
   "exception": null,
   "input_path": "__notebook__.ipynb",
   "output_path": "__notebook__.ipynb",
   "parameters": {},
   "start_time": "2020-08-22T08:56:09.408536",
   "version": "2.1.0"
  }
 },
 "nbformat": 4,
 "nbformat_minor": 4
}
